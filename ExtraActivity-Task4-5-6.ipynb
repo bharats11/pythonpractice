{
 "cells": [
  {
   "cell_type": "markdown",
   "metadata": {},
   "source": [
    "Extra activity on Data Structures"
   ]
  },
  {
   "cell_type": "code",
   "execution_count": 22,
   "metadata": {},
   "outputs": [
    {
     "name": "stdout",
     "output_type": "stream",
     "text": [
      "[1, 2, 3, 4, 5]\n",
      "[600, 700]\n",
      "[100, 300, 500, 600, 800]\n",
      "[800, 700, 600, [1, 2, 3, 4, 5, [10, 20, 30, 40, 50], 6, 7, 8, 9], 500, 400, 300, 200, 100]\n",
      "10\n",
      "[]\n"
     ]
    }
   ],
   "source": [
    "#soltion to problem 1, 2 are same as in task 3\n",
    "#solution to problem 3\n",
    "x=[100,200,300,400,500,[1,2,3,4,5,[10,20,30,40,50],6,7,8,9],600,700,800]\n",
    "print(x[5][:5])\n",
    "print(x[6:8])\n",
    "print(x[::2])\n",
    "print(x[::-1])\n",
    "print(x[5][5][0])\n",
    "print(x[8:8])"
   ]
  },
  {
   "cell_type": "code",
   "execution_count": 118,
   "metadata": {},
   "outputs": [],
   "source": [
    "#solution to problem 4\n",
    "x=list(range(1,1000))\n",
    "#xrange function is not available in python 3"
   ]
  },
  {
   "cell_type": "code",
   "execution_count": 119,
   "metadata": {},
   "outputs": [
    {
     "ename": "NameError",
     "evalue": "name 'xrange' is not defined",
     "output_type": "error",
     "traceback": [
      "\u001b[1;31m---------------------------------------------------------------------------\u001b[0m",
      "\u001b[1;31mNameError\u001b[0m                                 Traceback (most recent call last)",
      "\u001b[1;32m<ipython-input-119-3470f107314c>\u001b[0m in \u001b[0;36m<module>\u001b[1;34m\u001b[0m\n\u001b[1;32m----> 1\u001b[1;33m \u001b[0mm\u001b[0m\u001b[1;33m=\u001b[0m\u001b[0mxrange\u001b[0m\u001b[1;33m(\u001b[0m\u001b[1;36m1\u001b[0m\u001b[1;33m,\u001b[0m\u001b[1;36m1000\u001b[0m\u001b[1;33m)\u001b[0m\u001b[1;33m\u001b[0m\u001b[1;33m\u001b[0m\u001b[0m\n\u001b[0m",
      "\u001b[1;31mNameError\u001b[0m: name 'xrange' is not defined"
     ]
    }
   ],
   "source": [
    "m=xrange(1,1000)"
   ]
  },
  {
   "cell_type": "code",
   "execution_count": 120,
   "metadata": {},
   "outputs": [],
   "source": [
    "#solution to problem 5\n",
    "#Iteration in a tuple is faster as compared to lists since tuples in Python are immutable.\n",
    "#Tuples that contain immutable elements can be used as a key for a dictionary. With lists, this is not possible.\n",
    "#If you have data that doesn't change, implementing it as tuple will guarantee that it remains write-protected."
   ]
  },
  {
   "cell_type": "code",
   "execution_count": 122,
   "metadata": {},
   "outputs": [
    {
     "data": {
      "text/plain": [
       "[6, 12, 18, 24, 30, 36, 42, 48, 54, 60, 66, 72, 78, 84, 90, 96]"
      ]
     },
     "execution_count": 122,
     "metadata": {},
     "output_type": "execute_result"
    }
   ],
   "source": [
    "#problem to solution 6\n",
    "x=list(range(1,100))\n",
    "y=[i for i in x if i%2==0 and i%3==0]\n",
    "y"
   ]
  },
  {
   "cell_type": "code",
   "execution_count": 136,
   "metadata": {},
   "outputs": [
    {
     "name": "stdout",
     "output_type": "stream",
     "text": [
      "Enter any string:- aaaasdsdsdeeegfgiiioo\n",
      "reversed string:-  ooiiigfgeeedsdsdsaaaa\n",
      "Revered string with only vowels:-  ooiiieeeaaaa\n",
      "Indices of vowels in the original string:-  {0: 'a', 1: 'a', 2: 'a', 3: 'a', 10: 'e', 11: 'e', 12: 'e', 16: 'i', 17: 'i', 18: 'i', 19: 'o', 20: 'o'}\n"
     ]
    }
   ],
   "source": [
    "#solution to problem 7\n",
    "x=input('Enter any string:- ')\n",
    "print('reversed string:- ', x[::-1])\n",
    "vowel={'a','e','i','o','u'}\n",
    "r=''\n",
    "d=dict()\n",
    "for i in range(len(x)):\n",
    "    if x[i] in vowel:\n",
    "        r=r+x[i]\n",
    "        d[i]=x[i]\n",
    "print('Revered string with only vowels:- ', r[::-1])        \n",
    "print('Indices of vowels in the original string:- ', d)"
   ]
  },
  {
   "cell_type": "code",
   "execution_count": 145,
   "metadata": {},
   "outputs": [
    {
     "name": "stdout",
     "output_type": "stream",
     "text": [
      "my name is\n"
     ]
    }
   ],
   "source": [
    "#solution to problem 8\n",
    "x='hello my name is abcde'\n",
    "y=x.split(' ')\n",
    "y=[i for i in y if len(i)%2==0]\n",
    "print(' '.join(y))"
   ]
  },
  {
   "cell_type": "code",
   "execution_count": 146,
   "metadata": {},
   "outputs": [
    {
     "name": "stdout",
     "output_type": "stream",
     "text": [
      "Pair:  1 7\n",
      "Pair:  2 6\n",
      "Pair:  3 5\n",
      "Pair:  4 4\n",
      "Pair:  5 3\n",
      "Pair:  6 2\n",
      "Pair:  7 1\n",
      "Pair:  9 -1\n",
      "Pair:  -1 9\n"
     ]
    }
   ],
   "source": [
    "#solution to problem 9\n",
    "x=[1,2,3,4,5,6,7,8,9,-1]\n",
    "\n",
    "for i in x:\n",
    "    for j in x:\n",
    "        if i+j==8:\n",
    "            print('Pair: ', i,j)\n",
    "            "
   ]
  },
  {
   "cell_type": "code",
   "execution_count": 156,
   "metadata": {},
   "outputs": [
    {
     "name": "stdout",
     "output_type": "stream",
     "text": [
      "enter any number between 1,150:- 33\n",
      "enter any number between 1,150:- 45\n",
      "enter any number between 1,150:- 23\n",
      "enter any number between 1,150:- 4\n",
      "enter any number between 1,150:- 4356\n",
      "enter any number between 1,150:- 762\n",
      "enter any number between 1,150:- 35\n",
      "enter any number between 1,150:- 23\n",
      "enter any number between 1,150:- 56\n",
      "enter any number between 1,150:- 344\n",
      "even list:-  [4, 4356, 762, 56, 344]\n",
      "Sum of even list:-  5522\n",
      "Max of even list:-  4356\n",
      "odd list:-  [33, 45, 23, 35, 23]\n",
      "Sum of odd list:-  159\n",
      "Max of odd list:-  45\n"
     ]
    }
   ],
   "source": [
    "#solution to problem 10 \n",
    "xe,xo=[],[]\n",
    "while(len(xe)<5 or len(xo)<5):\n",
    "    x=int(input('enter any number between 1,150:- '))\n",
    "    if x%2==0:\n",
    "        if len(xe)<5:\n",
    "            xe.append(x)\n",
    "        else: print('even list full')\n",
    "    else:\n",
    "        if len(xo)<5:\n",
    "            xo.append(x)\n",
    "        else: print('odd list full')\n",
    "print('even list:- ',xe)\n",
    "print('Sum of even list:- ',sum(xe))\n",
    "print('Max of even list:- ',max(xe))\n",
    "print('odd list:- ',xo)\n",
    "print('Sum of odd list:- ',sum(xo))\n",
    "print('Max of odd list:- ',max(xo))\n",
    "\n",
    "\n",
    "      "
   ]
  },
  {
   "cell_type": "code",
   "execution_count": 166,
   "metadata": {},
   "outputs": [
    {
     "name": "stdout",
     "output_type": "stream",
     "text": [
      "enter any alpha numeric string:- dfvdfvdsbbaba\n"
     ]
    },
    {
     "data": {
      "text/plain": [
       "Counter({'d': 3, 'f': 2, 'v': 2, 's': 1, 'b': 3, 'a': 2})"
      ]
     },
     "execution_count": 166,
     "metadata": {},
     "output_type": "execute_result"
    }
   ],
   "source": [
    "#solution to problem 11\n",
    "import collections\n",
    "x=input('enter any alpha numeric string:- ')\n",
    "y=[]\n",
    "for i in x:\n",
    "    if i.isalpha():\n",
    "        y.append(i)\n",
    "counts=collections.Counter(y)        \n",
    "counts"
   ]
  },
  {
   "cell_type": "code",
   "execution_count": 181,
   "metadata": {},
   "outputs": [
    {
     "name": "stdout",
     "output_type": "stream",
     "text": [
      "(2, 4, 6, 8, 10)\n"
     ]
    }
   ],
   "source": [
    "#solution to problem 12\n",
    "x=(1,2,3,4,5,6,7,8,9,10)\n",
    "y=()\n",
    "y=tuple(i for i in x if i%2==0)\n",
    "print(y)\n"
   ]
  },
  {
   "cell_type": "markdown",
   "metadata": {},
   "source": [
    "Task 4"
   ]
  },
  {
   "cell_type": "code",
   "execution_count": 183,
   "metadata": {},
   "outputs": [
    {
     "name": "stdout",
     "output_type": "stream",
     "text": [
      "enter any string:-gseggtrhtw45635336\n",
      "reverse is:-  63353654wthrtggesg\n"
     ]
    }
   ],
   "source": [
    "#solution to problem 1\n",
    "def revstr(a):\n",
    "    return a[::-1]\n",
    "x=input('enter any string:-')\n",
    "print('reverse is:- ',revstr(x))"
   ]
  },
  {
   "cell_type": "code",
   "execution_count": 187,
   "metadata": {},
   "outputs": [
    {
     "name": "stdout",
     "output_type": "stream",
     "text": [
      "enter any string:-QQAAWWSSEEDasd\n",
      "No. of Upper case characters : 11\n",
      "No. of Lower case Characters : 3\n"
     ]
    }
   ],
   "source": [
    "#solution to problem 2\n",
    "def casecal(a):\n",
    "    u,l=0,0\n",
    "    for i in a:\n",
    "        if i.isupper():\n",
    "            u+=1\n",
    "        if i.islower():\n",
    "            l+=1\n",
    "    print('No. of Upper case characters :',u)\n",
    "    print('No. of Lower case Characters :',l)  \n",
    "x=input('enter any string:-')\n",
    "casecal(x)    "
   ]
  },
  {
   "cell_type": "code",
   "execution_count": 192,
   "metadata": {},
   "outputs": [
    {
     "name": "stdout",
     "output_type": "stream",
     "text": [
      "Enter number of elements : 6\n",
      "\n",
      "Enter the numbers : 2 3 4 5 6 78 5 3 6 3 \n",
      "[2, 3, 4, 5, 6, 78]\n"
     ]
    }
   ],
   "source": [
    "#solution to problem 3\n",
    "x = int(input(\"Enter number of elements : \"))  \n",
    "a = list(map(int,input(\"\\nEnter the numbers : \").strip().split()))[:x]\n",
    "type(a)\n",
    "print(a)"
   ]
  },
  {
   "cell_type": "code",
   "execution_count": 195,
   "metadata": {},
   "outputs": [
    {
     "name": "stdout",
     "output_type": "stream",
     "text": [
      "enter - seperated string:- gfsgg--sgs-gsgsg-gsdgdf-gs-sfsbf---sdfgbsgs\n",
      "output string:- ---gfsgg-gs-gsdgdf-gsgsg-sdfgbsgs-sfsbf-sgs\n"
     ]
    }
   ],
   "source": [
    "#solution to problem 4\n",
    "x=[n for n in input('enter - seperated string:- ').split('-')]\n",
    "x.sort()\n",
    "print('output string:- '+'-'.join(x))\n"
   ]
  },
  {
   "cell_type": "code",
   "execution_count": 196,
   "metadata": {},
   "outputs": [
    {
     "name": "stdout",
     "output_type": "stream",
     "text": [
      "gsergrg\n",
      "gsgsreggrg35t43523tghdbgseg\n",
      "525rwgey35t4523tgerg\n",
      "\n",
      "GSERGRG\n",
      "GSGSREGGRG35T43523TGHDBGSEG\n",
      "525RWGEY35T4523TGERG\n"
     ]
    }
   ],
   "source": [
    "#solution to problem 5\n",
    "x = []\n",
    "while(True):\n",
    "    l = input()\n",
    "    if l:\n",
    "        x.append(l.upper())\n",
    "    else:\n",
    "        break;\n",
    "\n",
    "for i in x:\n",
    "    print(i)\n",
    "#press 2 times enter to break out."
   ]
  },
  {
   "cell_type": "code",
   "execution_count": 198,
   "metadata": {},
   "outputs": [
    {
     "name": "stdout",
     "output_type": "stream",
     "text": [
      "enter first number:- 65\n",
      "enter second number:- 23\n",
      "the sum is:-  88\n"
     ]
    }
   ],
   "source": [
    "#solution to problem 6\n",
    "def sum(a,b):\n",
    "    return int(a)+int(b)\n",
    "x=input('enter first number:- ')\n",
    "y=input('enter second number:- ')\n",
    "print('the sum is:- ',sum(x,y))"
   ]
  },
  {
   "cell_type": "code",
   "execution_count": 199,
   "metadata": {},
   "outputs": [
    {
     "name": "stdout",
     "output_type": "stream",
     "text": [
      "enter first string:- gsggfdbthsg\n",
      "enter first string:- shet4teffgrgethtehtbdvfsfgeg\n",
      "larger string:-  shet4teffgrgethtehtbdvfsfgeg\n"
     ]
    }
   ],
   "source": [
    "#solution to problem 7\n",
    "def ms(a,b):\n",
    "    if len(a)>len(b):\n",
    "        print(\"larger string:- \",a)\n",
    "    elif len(b)>len(a):\n",
    "        print(\"larger string:- \",b)\n",
    "    else: print(a,'\\n',b)\n",
    "        \n",
    "x=input('enter first string:- ')\n",
    "y=input('enter first string:- ')\n",
    "ms(x,y)"
   ]
  },
  {
   "cell_type": "code",
   "execution_count": 202,
   "metadata": {},
   "outputs": [
    {
     "name": "stdout",
     "output_type": "stream",
     "text": [
      "enter range:- 5\n",
      "(0, 1, 4, 9, 16)\n"
     ]
    }
   ],
   "source": [
    "#solution to problem 8\n",
    "def tgen(a):\n",
    "    return tuple(i*i for i in range(int(a)))\n",
    "x=input('enter range:- ')\n",
    "y=tgen(x)\n",
    "print(y)\n",
    "    "
   ]
  },
  {
   "cell_type": "code",
   "execution_count": 204,
   "metadata": {},
   "outputs": [
    {
     "name": "stdout",
     "output_type": "stream",
     "text": [
      "enter limit10\n",
      "0  Even\n",
      "1  odd\n",
      "2  Even\n",
      "3  odd\n",
      "4  Even\n",
      "5  odd\n",
      "6  Even\n",
      "7  odd\n",
      "8  Even\n",
      "9  odd\n",
      "10  Even\n"
     ]
    }
   ],
   "source": [
    "#solution to problem 9\n",
    "def shownumber(limit):\n",
    "    for i in range(int(limit)+1):\n",
    "        if i%2==0:\n",
    "            print(i, ' Even')\n",
    "        else:\n",
    "            print(i, ' odd')\n",
    "x=shownumber(input('enter limit'))            \n",
    "        "
   ]
  },
  {
   "cell_type": "code",
   "execution_count": 212,
   "metadata": {},
   "outputs": [
    {
     "name": "stdout",
     "output_type": "stream",
     "text": [
      "[0, 2, 4, 6, 8, 10, 12, 14, 16, 18, 20]\n"
     ]
    }
   ],
   "source": [
    "#solution to problem 10\n",
    "def ff(ran):\n",
    "    m= list(filter(lambda x: x % 2 == 0, list(range(ran))))\n",
    "    return m\n",
    "print(ff(21))"
   ]
  },
  {
   "cell_type": "code",
   "execution_count": 223,
   "metadata": {},
   "outputs": [
    {
     "name": "stdout",
     "output_type": "stream",
     "text": [
      "[4, 16, 36, 64, 100]\n"
     ]
    }
   ],
   "source": [
    "#solution to problem 11\n",
    "x=[1,2,3,4,5,6,7,8,9,10]\n",
    "y=list(map(lambda i:i**2,filter(lambda i:i%2==0,x)))\n",
    "print(y)"
   ]
  },
  {
   "cell_type": "code",
   "execution_count": 224,
   "metadata": {},
   "outputs": [
    {
     "name": "stdout",
     "output_type": "stream",
     "text": [
      "Zero Division error\n"
     ]
    }
   ],
   "source": [
    "#solution to problem 12\n",
    "try:\n",
    "    x = 5/0\n",
    "except:\n",
    "    print(\"Zero Division error\")"
   ]
  },
  {
   "cell_type": "code",
   "execution_count": 230,
   "metadata": {},
   "outputs": [
    {
     "name": "stdout",
     "output_type": "stream",
     "text": [
      "[1, 2, 3, 4, 5, 6, 7, 8]\n"
     ]
    }
   ],
   "source": [
    "#solution to problem 13\n",
    "from functools import reduce\n",
    "x=[[1,2,3],[4,5],[6,7,8]]\n",
    "x= reduce(list.__add__,(list(i) for i in x))\n",
    "print(x)"
   ]
  },
  {
   "cell_type": "code",
   "execution_count": 235,
   "metadata": {},
   "outputs": [],
   "source": [
    "#solution to problem 14\n",
    "#1 : output 2\n",
    "#2 : f is not defined"
   ]
  },
  {
   "cell_type": "markdown",
   "metadata": {},
   "source": [
    "Task 5"
   ]
  },
  {
   "cell_type": "code",
   "execution_count": 4,
   "metadata": {},
   "outputs": [
    {
     "name": "stdout",
     "output_type": "stream",
     "text": [
      "enter a range:- 45\n",
      "[7, 14, 28, 35]\n"
     ]
    }
   ],
   "source": [
    "#solution to problem 1\n",
    "x=list(range(int(input('enter a range:- '))))\n",
    "x=list(filter(lambda x:x%3!=0 and x%7==0,x))\n",
    "print(x)"
   ]
  },
  {
   "cell_type": "code",
   "execution_count": 6,
   "metadata": {},
   "outputs": [
    {
     "name": "stdout",
     "output_type": "stream",
     "text": [
      "[1, 4, 9, 16, 25, 36, 49, 64, 81, 100]\n"
     ]
    }
   ],
   "source": [
    "#solution to problem 2\n",
    "x=[1,2,3,4,5,6,7,8,9,10]\n",
    "y=list(map(lambda i:i*i,x))\n",
    "print(y)"
   ]
  },
  {
   "cell_type": "code",
   "execution_count": 7,
   "metadata": {},
   "outputs": [
    {
     "name": "stdout",
     "output_type": "stream",
     "text": [
      "enter a stringdfjggSGDSHGfgsgngsgERGSge\n",
      "['S', 'G', 'D', 'S', 'H', 'G', 'E', 'R', 'G', 'S']\n"
     ]
    }
   ],
   "source": [
    "#solution to problem 3\n",
    "x=input('enter a string')\n",
    "y=[i for i in x if i.isupper()]\n",
    "print(y)"
   ]
  },
  {
   "cell_type": "code",
   "execution_count": 12,
   "metadata": {},
   "outputs": [
    {
     "data": {
      "text/plain": [
       "{'Smit': 'CSE', 'Jaya': 'Networking', 'Rayyan': 'Operating System'}"
      ]
     },
     "execution_count": 12,
     "metadata": {},
     "output_type": "execute_result"
    }
   ],
   "source": [
    "#solution to problem 4\n",
    "student = ['Smit', 'Jaya', 'Rayyan']\n",
    "capital = ['CSE', 'Networking', 'Operating System']\n",
    "d={}\n",
    "for i in range(len(student)):\n",
    "    d[student[i]]=capital[i]\n",
    "d    "
   ]
  },
  {
   "cell_type": "code",
   "execution_count": 13,
   "metadata": {},
   "outputs": [
    {
     "name": "stdout",
     "output_type": "stream",
     "text": [
      "{'Smit': 'CSE', 'Jaya': 'Networking', 'Rayyan': 'Operating System'}\n"
     ]
    }
   ],
   "source": [
    "#solution 2 to problem 4\n",
    "dic=dict(zip(student,capital))\n",
    "print(dic)"
   ]
  },
  {
   "cell_type": "code",
   "execution_count": 14,
   "metadata": {},
   "outputs": [
    {
     "data": {
      "text/plain": [
       "'A Python generator is a function which returns a generator iterator\\n(just an object we can iterate over) by calling yield. yield may be \\ncalled with a value, in which case that value is treated as the \\n\"generated\" value. The next time next() is called on the generator \\niterator (i.e. in the next step in a for loop, for example),the \\ngenerator resumes execution from where it called yield, not from \\nthe beginning of the function. All of the state, like the values \\nof local variables, is recovered and the generator contiues to \\nexecute until the next call to yield'"
      ]
     },
     "execution_count": 14,
     "metadata": {},
     "output_type": "execute_result"
    }
   ],
   "source": [
    "#solution to problem 5\n",
    "'''A Python generator is a function which returns a generator iterator\n",
    "(just an object we can iterate over) by calling yield. yield may be \n",
    "called with a value, in which case that value is treated as the \n",
    "\"generated\" value. The next time next() is called on the generator \n",
    "iterator (i.e. in the next step in a for loop, for example),the \n",
    "generator resumes execution from where it called yield, not from \n",
    "the beginning of the function. All of the state, like the values \n",
    "of local variables, is recovered and the generator contiues to \n",
    "execute until the next call to yield'''"
   ]
  },
  {
   "cell_type": "code",
   "execution_count": 15,
   "metadata": {},
   "outputs": [
    {
     "data": {
      "text/plain": [
       "'The front end of a website is the part that users interact with.\\nEverything that you see when you’re navigating around the Internet,\\nfrom fonts and colors to dropdown menus and sliders are part of front end.\\nFront End technologies are React, AngularJS, Vue.js, bootstrap, visual studios'"
      ]
     },
     "execution_count": 15,
     "metadata": {},
     "output_type": "execute_result"
    }
   ],
   "source": [
    "#solution to problem 8\n",
    "'''The front end of a website is the part that users interact with.\n",
    "Everything that you see when you’re navigating around the Internet,\n",
    "from fonts and colors to dropdown menus and sliders are part of front end.\n",
    "Front End technologies are React, AngularJS, Vue.js, bootstrap, visual studios'''"
   ]
  },
  {
   "cell_type": "markdown",
   "metadata": {},
   "source": [
    "Task 6"
   ]
  },
  {
   "cell_type": "code",
   "execution_count": 20,
   "metadata": {},
   "outputs": [
    {
     "name": "stdout",
     "output_type": "stream",
     "text": [
      "there is a syntax error\n"
     ]
    }
   ],
   "source": [
    "#solution to problem 1\n",
    "try:\n",
    "    while(true):\n",
    "        print('hi')\n",
    "except : print(\"there is a syntax error\")"
   ]
  },
  {
   "cell_type": "code",
   "execution_count": 1,
   "metadata": {},
   "outputs": [
    {
     "data": {
      "text/plain": [
       "\"from sys import argv\\nnfile=argv\\nwhile(True):\\n    try:\\n        x=open(nfile)\\n        break\\n    except: print('file with this name does not exist')\""
      ]
     },
     "execution_count": 1,
     "metadata": {},
     "output_type": "execute_result"
    }
   ],
   "source": [
    "#solution to problem 2\n",
    "'''from sys import argv\n",
    "nfile=argv\n",
    "while(True):\n",
    "    try:\n",
    "        x=open(nfile,'r')\n",
    "        break\n",
    "    except: print('file with this name does not exist')'''\n",
    "        "
   ]
  },
  {
   "cell_type": "code",
   "execution_count": 17,
   "metadata": {},
   "outputs": [
    {
     "name": "stdout",
     "output_type": "stream",
     "text": [
      "Enter any number\n",
      "35\n"
     ]
    }
   ],
   "source": [
    "#solution to problem 3\n",
    "print('Enter any number')\n",
    "while(True):\n",
    "    j=input()\n",
    "    try:\n",
    "        j=int(j)\n",
    "        try:\n",
    "            if len(str(j))<=4:\n",
    "                break\n",
    "            else:\n",
    "                print(\"only 4 digits allowed\")\n",
    "        except: continue        \n",
    "    except ValueError: \n",
    "        print('not a number')"
   ]
  },
  {
   "cell_type": "code",
   "execution_count": 9,
   "metadata": {},
   "outputs": [
    {
     "name": "stdout",
     "output_type": "stream",
     "text": [
      "Enter username and password to continue\n",
      "Enter username: bharats\n",
      "Enter password: qwertyasdf\n",
      "Access granted\n"
     ]
    }
   ],
   "source": [
    "#solution to problem 4\n",
    "username='bharats'\n",
    "password='qwertyasdf'\n",
    "print('Enter username and password to continue')\n",
    "c=0\n",
    "while(c<3):\n",
    "    username=input('Enter username: ')\n",
    "    password=input('Enter password: ')\n",
    "    if password=='qwertyasdf' and username=='bharats':\n",
    "        print('Access granted')\n",
    "        break\n",
    "    else:\n",
    "        print('Access denied. Try again.')\n",
    "        c=c+1\n",
    "    "
   ]
  },
  {
   "cell_type": "code",
   "execution_count": 28,
   "metadata": {},
   "outputs": [
    {
     "data": {
      "text/plain": [
       "'am file need to return data string is of even length Make sure return in same link as it is present.'"
      ]
     },
     "execution_count": 28,
     "metadata": {},
     "output_type": "execute_result"
    }
   ],
   "source": [
    "#solution to problem 6\n",
    "f=open('newfile.txt','w')\n",
    "f.write(\"Hello I am a file Where you need to return the data string Which is of even length Make sure you return the content in The same link as it is present.\")\n",
    "f.close()\n",
    "fh=open('newfile.txt','r')\n",
    "r=fh.read() \n",
    "r=r.split(' ')\n",
    "res=[i for i in r if len(i)%2==0]\n",
    "' '.join(res)"
   ]
  },
  {
   "cell_type": "raw",
   "metadata": {},
   "source": []
  }
 ],
 "metadata": {
  "kernelspec": {
   "display_name": "Python 3",
   "language": "python",
   "name": "python3"
  },
  "language_info": {
   "codemirror_mode": {
    "name": "ipython",
    "version": 3
   },
   "file_extension": ".py",
   "mimetype": "text/x-python",
   "name": "python",
   "nbconvert_exporter": "python",
   "pygments_lexer": "ipython3",
   "version": "3.7.6"
  }
 },
 "nbformat": 4,
 "nbformat_minor": 4
}
