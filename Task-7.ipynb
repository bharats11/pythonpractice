{
 "cells": [
  {
   "cell_type": "markdown",
   "metadata": {},
   "source": [
    "Task 7"
   ]
  },
  {
   "cell_type": "code",
   "execution_count": 7,
   "metadata": {},
   "outputs": [
    {
     "name": "stdout",
     "output_type": "stream",
     "text": [
      "enter the value of D:- 23,45,2,54,4,4,46,23,5\n",
      "result= [8.755950357709132, 12.24744871391589, 2.581988897471611, 13.416407864998739, 3.6514837167011076, 3.6514837167011076, 12.382783747337808, 8.755950357709132, 4.08248290463863]\n"
     ]
    }
   ],
   "source": [
    "#solution to problem 1\n",
    "import math\n",
    "\n",
    "C= 50\n",
    "H = 30\n",
    "D = []\n",
    "res =[]\n",
    "x=input(\"enter the value of D:- \")\n",
    "D=x.split(\",\")\n",
    "D = [int(i) for i in D]\n",
    "i=0\n",
    "l = len(D)\n",
    "while(i<l):\n",
    "    Q = math.sqrt((2*C*D[i])/H)\n",
    "    res. append(Q)\n",
    "    i+=1\n",
    "print(\"result=\",res)"
   ]
  },
  {
   "cell_type": "code",
   "execution_count": 13,
   "metadata": {},
   "outputs": [
    {
     "name": "stdout",
     "output_type": "stream",
     "text": [
      "Area of square with length 4 is 16\n"
     ]
    }
   ],
   "source": [
    "#solution to problem 2\n",
    "class shape:\n",
    "    area=0\n",
    "\n",
    "class square(shape):\n",
    "    def __init__(self, length):\n",
    "        self.length=length\n",
    "        \n",
    "    def area(self):\n",
    "        a=(self.length**2)\n",
    "        print('Area of square with length',self.length,\"is\",a)\n",
    "s=square(4)\n",
    "s.area()"
   ]
  },
  {
   "cell_type": "code",
   "execution_count": 27,
   "metadata": {},
   "outputs": [
    {
     "name": "stdout",
     "output_type": "stream",
     "text": [
      "space separated nunmbers-25 -10 -7 -3 2 4 8 10\n",
      "2 -10 8\n",
      "-3 -7 10\n"
     ]
    }
   ],
   "source": [
    "#solution to problem 3\n",
    "def findTriplets(arr, n): \n",
    "    found = False\n",
    "    for i in range(n - 1): \n",
    "        s = set() \n",
    "        for j in range(i + 1, n): \n",
    "            x = -(arr[i] + arr[j]) \n",
    "            if x in s: \n",
    "                print(x, arr[i], arr[j]) \n",
    "                found = True\n",
    "            else: \n",
    "                s.add(arr[j]) \n",
    "    if found == False: \n",
    "        print(\"No Triplet Found\") \n",
    "m=list(map(int,input('space separated nunmbers').split(' ')))\n",
    "findTriplets(m,len(m))\n"
   ]
  },
  {
   "cell_type": "code",
   "execution_count": 53,
   "metadata": {},
   "outputs": [
    {
     "data": {
      "text/plain": [
       "'4. Output 30'"
      ]
     },
     "execution_count": 53,
     "metadata": {},
     "output_type": "execute_result"
    }
   ],
   "source": [
    "#solution to problem 4\n",
    "'''1. Error: 'Derived_Test' object has no attribute 'x'. \n",
    "This is because missing super function in the derived class. \n",
    "The usage of the super function allows the child class to access the parent class’s init() property.'''\n",
    "\n",
    "''''2. Output: 1 2'''\n",
    "\n",
    "\n",
    "'''3. Output 3 1'''\n",
    "\n",
    "'''4. Output 30'''"
   ]
  },
  {
   "cell_type": "code",
   "execution_count": 49,
   "metadata": {},
   "outputs": [
    {
     "name": "stdout",
     "output_type": "stream",
     "text": [
      "Time is 6 hours and 0 minutes\n",
      "360 minutes\n"
     ]
    }
   ],
   "source": [
    "#solution to problem 5\n",
    "class  Time(object):\n",
    "\n",
    "    def __init__(self, hours, minutes):\n",
    "        self.hours = hours\n",
    "        self.minutes = minutes\n",
    "\n",
    "    def addTime(t1, t2):\n",
    "        t3 = Time(0, 0)\n",
    "        t3.hours = t1.hours + t2.hours \n",
    "        t3.minutes = t1.minutes + t2.minutes \n",
    "        while t3.minutes >= 60:\n",
    "            t3.hours += 1\n",
    "            t3.minutes -= 60\n",
    "        return t3\n",
    "\n",
    "    def displayTime(self):\n",
    "        print('Time is',self.hours,'hours and',self.minutes,'minutes')\n",
    "\n",
    "    def displayMinutes(self):\n",
    "        print((self.hours * 60) + self.minutes, \"minutes\")\n",
    "\n",
    "a = Time(2, 90)\n",
    "b = Time(1, 90)\n",
    "c = Time.addTime(a,b)\n",
    "\n",
    "c.displayTime()\n",
    "c.displayMinutes()"
   ]
  },
  {
   "cell_type": "code",
   "execution_count": 51,
   "metadata": {},
   "outputs": [],
   "source": [
    "#solution to porblem 6\n",
    "#incomplete question. did not understand the question"
   ]
  },
  {
   "cell_type": "code",
   "execution_count": null,
   "metadata": {},
   "outputs": [],
   "source": []
  }
 ],
 "metadata": {
  "kernelspec": {
   "display_name": "Python 3",
   "language": "python",
   "name": "python3"
  },
  "language_info": {
   "codemirror_mode": {
    "name": "ipython",
    "version": 3
   },
   "file_extension": ".py",
   "mimetype": "text/x-python",
   "name": "python",
   "nbconvert_exporter": "python",
   "pygments_lexer": "ipython3",
   "version": "3.7.6"
  }
 },
 "nbformat": 4,
 "nbformat_minor": 4
}
