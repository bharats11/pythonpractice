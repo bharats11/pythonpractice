{
 "cells": [
  {
   "cell_type": "markdown",
   "metadata": {},
   "source": [
    "Task 1"
   ]
  },
  {
   "cell_type": "code",
   "execution_count": 11,
   "metadata": {},
   "outputs": [],
   "source": [
    "#solution to problem 1\n",
    "a,b,c=10,5.3,'abc'   "
   ]
  },
  {
   "cell_type": "code",
   "execution_count": 12,
   "metadata": {},
   "outputs": [
    {
     "data": {
      "text/plain": [
       "((2+3j), 5)"
      ]
     },
     "execution_count": 12,
     "metadata": {},
     "output_type": "execute_result"
    }
   ],
   "source": [
    "#solution to problem 2\n",
    "e=5\n",
    "d=2+3j              \n",
    "t=e\n",
    "e=d\n",
    "d=t\n",
    "e,d"
   ]
  },
  {
   "cell_type": "code",
   "execution_count": 13,
   "metadata": {},
   "outputs": [
    {
     "data": {
      "text/plain": [
       "(10, 4)"
      ]
     },
     "execution_count": 13,
     "metadata": {},
     "output_type": "execute_result"
    }
   ],
   "source": [
    " #solution to problem 3 (part1)\n",
    "f=10\n",
    "g=4\n",
    "f,g"
   ]
  },
  {
   "cell_type": "code",
   "execution_count": 14,
   "metadata": {},
   "outputs": [
    {
     "data": {
      "text/plain": [
       "(4, 3)"
      ]
     },
     "execution_count": 14,
     "metadata": {},
     "output_type": "execute_result"
    }
   ],
   "source": [
    "h=f\n",
    "f=g                 \n",
    "g=h\n",
    "f,3"
   ]
  },
  {
   "cell_type": "code",
   "execution_count": 15,
   "metadata": {},
   "outputs": [
    {
     "data": {
      "text/plain": [
       "(10, 12)"
      ]
     },
     "execution_count": 15,
     "metadata": {},
     "output_type": "execute_result"
    }
   ],
   "source": [
    " #solution to problem 3 (part2)\n",
    "i=10\n",
    "j=12\n",
    "i,j"
   ]
  },
  {
   "cell_type": "code",
   "execution_count": 16,
   "metadata": {},
   "outputs": [
    {
     "data": {
      "text/plain": [
       "(12, 10)"
      ]
     },
     "execution_count": 16,
     "metadata": {},
     "output_type": "execute_result"
    }
   ],
   "source": [
    "i=i+j\n",
    "j=i-j       \n",
    "i=i-j\n",
    "i,j"
   ]
  },
  {
   "cell_type": "code",
   "execution_count": 17,
   "metadata": {},
   "outputs": [
    {
     "name": "stdout",
     "output_type": "stream",
     "text": [
      "Enter any value\n",
      "fhdggs\n",
      "you entered fhdggs\n"
     ]
    }
   ],
   "source": [
    "#solution to problem 4\n",
    "print('Enter any value')\n",
    "k=input()                                \n",
    "print('you entered ' +k)"
   ]
  },
  {
   "cell_type": "code",
   "execution_count": 18,
   "metadata": {},
   "outputs": [
    {
     "name": "stdout",
     "output_type": "stream",
     "text": [
      "enter any number between 1-10\n",
      "45\n",
      "not in range\n",
      "23\n",
      "not in range\n",
      "56\n",
      "not in range\n",
      "fd\n",
      "not a number\n",
      "3\n",
      "enter another number between 1-10\n",
      "56\n",
      "not in range\n",
      "54\n",
      "not in range\n",
      "dgd\n",
      "not a number\n",
      "2\n",
      "you entered: 3 & 2\n",
      "sum is 5\n"
     ]
    }
   ],
   "source": [
    "#solution to problem 5 (part1)\n",
    "print('enter any number between 1-10')\n",
    "\n",
    "while(True):\n",
    "    l=input()\n",
    "    try:\n",
    "        l=int(l)\n",
    "        try:\n",
    "            if 1<=l<=10:\n",
    "                break\n",
    "            else:\n",
    "                print('not in range')\n",
    "        except:\n",
    "            continue\n",
    "    except: \n",
    "        print('not a number')\n",
    "\n",
    "print('enter another number between 1-10')\n",
    "\n",
    "while(True):\n",
    "    m=input()\n",
    "    try:\n",
    "        m=int(m)\n",
    "        try:\n",
    "            if 1<=m<=10:\n",
    "                break\n",
    "            else:\n",
    "                print('not in range')\n",
    "        except:\n",
    "            continue\n",
    "    except: \n",
    "        print('not a number')\n",
    "        \n",
    "print('you entered:' ,l ,'&',m )\n",
    "z=l+m\n",
    "print('sum is',z)\n"
   ]
  },
  {
   "cell_type": "code",
   "execution_count": 19,
   "metadata": {},
   "outputs": [
    {
     "data": {
      "text/plain": [
       "35"
      ]
     },
     "execution_count": 19,
     "metadata": {},
     "output_type": "execute_result"
    }
   ],
   "source": [
    "#solution to problem 5 (part2)\n",
    "z=z+30\n",
    "z"
   ]
  },
  {
   "cell_type": "code",
   "execution_count": 20,
   "metadata": {},
   "outputs": [],
   "source": [
    "#solution to problem 6\n",
    "def checkdatatype(x):\n",
    "    n=type(x)\n",
    "    print('the input value data type is ',n)\n",
    "    \n",
    "    \n",
    "    "
   ]
  },
  {
   "cell_type": "code",
   "execution_count": 21,
   "metadata": {},
   "outputs": [
    {
     "name": "stdout",
     "output_type": "stream",
     "text": [
      "the input value data type is  <class 'complex'>\n"
     ]
    }
   ],
   "source": [
    "checkdatatype(e)"
   ]
  },
  {
   "cell_type": "code",
   "execution_count": 22,
   "metadata": {},
   "outputs": [],
   "source": [
    "#solution to problem 7\n",
    "ThisIsUpperCamelCaseVariable=20\n",
    "thisIsLowerCamelCaseVariable=2"
   ]
  },
  {
   "cell_type": "code",
   "execution_count": 23,
   "metadata": {},
   "outputs": [
    {
     "name": "stdout",
     "output_type": "stream",
     "text": [
      "45\n",
      "dfd\n"
     ]
    }
   ],
   "source": [
    "#solution to problem 8\n",
    "#It will the value of the variable\n",
    "#and it is obvious because in python we dont have to set the data type \n",
    "#of the varaible at the time of its initialisation. \n",
    "i=45\n",
    "print(i)\n",
    "i='dfd'\n",
    "print(i)"
   ]
  },
  {
   "cell_type": "markdown",
   "metadata": {},
   "source": [
    "Task 2"
   ]
  },
  {
   "cell_type": "code",
   "execution_count": 24,
   "metadata": {},
   "outputs": [
    {
     "name": "stdout",
     "output_type": "stream",
     "text": [
      "Enter any number\n",
      "45\n",
      "Consultadd python training\n"
     ]
    }
   ],
   "source": [
    "#solution to problem 1\n",
    "print('Enter any number')\n",
    "while(True):\n",
    "    j=input()\n",
    "    try:\n",
    "        j=float(j)\n",
    "        break\n",
    "    except: \n",
    "        print('not a number')\n",
    "if j%3==0 and j%5==0:\n",
    "    print('Consultadd python training')\n",
    "elif j%5==0:\n",
    "    print('c')\n",
    "elif j%3==0:\n",
    "    print('Consultadd')\n",
    "else: print('try again')\n",
    "    "
   ]
  },
  {
   "cell_type": "code",
   "execution_count": 25,
   "metadata": {},
   "outputs": [
    {
     "name": "stdout",
     "output_type": "stream",
     "text": [
      "Addition       : press 1\n",
      "Subtraction    : press 2\n",
      "Division       : press 3\n",
      "Multiplication : press 4\n",
      "Average        : press 5\n",
      "Enter your choice\n",
      "6\n",
      "not a valid selection, try again\n",
      "4\n",
      "enter 2 intergers\n",
      "34\n",
      "2\n",
      "multiplication is:  68\n"
     ]
    }
   ],
   "source": [
    "#solution to problem 2\n",
    "print('Addition       : press 1')\n",
    "print('Subtraction    : press 2')\n",
    "print('Division       : press 3')\n",
    "print('Multiplication : press 4')\n",
    "print('Average        : press 5')\n",
    "print('Enter your choice')\n",
    "while(True):\n",
    "    k=int(input())\n",
    "    if k>5 or k<1:\n",
    "        print('not a valid selection, try again')\n",
    "    elif k==5:\n",
    "        print('how many numbers? please enter interger')\n",
    "        i=int(input())\n",
    "        z=[]\n",
    "        for x in range(i):\n",
    "            print('enter number ', x+1)\n",
    "            z.append(int(input()))\n",
    "        res=sum(z)/len(z)\n",
    "        print('Average =' , res) \n",
    "        break\n",
    "    else:\n",
    "        print('enter 2 intergers')\n",
    "        m=int(input())\n",
    "        n=int(input())\n",
    "        if k==4:\n",
    "            res=m*n\n",
    "            print('multiplication is: ', res)\n",
    "        elif k==3:\n",
    "            res=m/n\n",
    "            print('division is: ',res)\n",
    "        elif k==2:\n",
    "            res=m-n\n",
    "            print('subtraction is: ',res )\n",
    "        else:\n",
    "            res=m+n\n",
    "            print('addition is: ', res)\n",
    "        break\n",
    "if res<0:\n",
    "    print('Zsa')"
   ]
  },
  {
   "cell_type": "code",
   "execution_count": 32,
   "metadata": {},
   "outputs": [
    {
     "name": "stdout",
     "output_type": "stream",
     "text": [
      "average=  20.0\n",
      "average is higher than a\n"
     ]
    }
   ],
   "source": [
    "#solution to problem 3\n",
    "a,b,c=10,20,30\n",
    "avg=(a+b+c)/3\n",
    "print(\"average= \",avg)\n",
    "if avg>a and avg>b and avg>c:\n",
    "    print('average is higher than a,b and c')\n",
    "elif avg>a and avg>b:\n",
    "    print('average is higher than a and b')\n",
    "elif avg>a and avg>c:\n",
    "    print('average is higher than a and c')\n",
    "elif avg>c and avg>b:\n",
    "    print('average is higher than b and c')\n",
    "elif avg>a:\n",
    "    print('average is higher than a')\n",
    "elif avg>b:\n",
    "    print('average is higher than b')\n",
    "else:\n",
    "    print('average is higher than c')\n",
    "\n"
   ]
  },
  {
   "cell_type": "code",
   "execution_count": 37,
   "metadata": {},
   "outputs": [
    {
     "name": "stdout",
     "output_type": "stream",
     "text": [
      "enter any number\n",
      "45\n",
      "good going\n",
      "45\n",
      "good going\n",
      "23\n",
      "good going\n",
      "542\n",
      "good going\n",
      "452\n",
      "good going\n",
      "45\n",
      "good going\n",
      "23\n",
      "good going\n",
      "-34\n",
      "Its over\n"
     ]
    }
   ],
   "source": [
    "#solution to problem 4\n",
    "print('enter any number')\n",
    "while(True):\n",
    "    x=float(input())\n",
    "    if x<0:\n",
    "        print('Its over')\n",
    "        break\n",
    "    else:\n",
    "        print('good going')\n",
    "        continue\n",
    "        break         #just experiment. this break statement is nver used as there is continue above it"
   ]
  },
  {
   "cell_type": "code",
   "execution_count": 44,
   "metadata": {},
   "outputs": [
    {
     "name": "stdout",
     "output_type": "stream",
     "text": [
      "2002\n",
      "2009\n",
      "2016\n",
      "2023\n",
      "2037\n",
      "2044\n",
      "2051\n",
      "2058\n",
      "2072\n",
      "2079\n",
      "2086\n",
      "2093\n",
      "2107\n",
      "2114\n",
      "2121\n",
      "2128\n",
      "2142\n",
      "2149\n",
      "2156\n",
      "2163\n",
      "2177\n",
      "2184\n",
      "2191\n",
      "2198\n",
      "2212\n",
      "2219\n",
      "2226\n",
      "2233\n",
      "2247\n",
      "2254\n",
      "2261\n",
      "2268\n",
      "2282\n",
      "2289\n",
      "2296\n",
      "2303\n",
      "2317\n",
      "2324\n",
      "2331\n",
      "2338\n",
      "2352\n",
      "2359\n",
      "2366\n",
      "2373\n",
      "2387\n",
      "2394\n",
      "2401\n",
      "2408\n",
      "2422\n",
      "2429\n",
      "2436\n",
      "2443\n",
      "2457\n",
      "2464\n",
      "2471\n",
      "2478\n",
      "2492\n",
      "2499\n",
      "2506\n",
      "2513\n",
      "2527\n",
      "2534\n",
      "2541\n",
      "2548\n",
      "2562\n",
      "2569\n",
      "2576\n",
      "2583\n",
      "2597\n",
      "2604\n",
      "2611\n",
      "2618\n",
      "2632\n",
      "2639\n",
      "2646\n",
      "2653\n",
      "2667\n",
      "2674\n",
      "2681\n",
      "2688\n",
      "2702\n",
      "2709\n",
      "2716\n",
      "2723\n",
      "2737\n",
      "2744\n",
      "2751\n",
      "2758\n",
      "2772\n",
      "2779\n",
      "2786\n",
      "2793\n",
      "2807\n",
      "2814\n",
      "2821\n",
      "2828\n",
      "2842\n",
      "2849\n",
      "2856\n",
      "2863\n",
      "2877\n",
      "2884\n",
      "2891\n",
      "2898\n",
      "2912\n",
      "2919\n",
      "2926\n",
      "2933\n",
      "2947\n",
      "2954\n",
      "2961\n",
      "2968\n",
      "2982\n",
      "2989\n",
      "2996\n",
      "3003\n",
      "3017\n",
      "3024\n",
      "3031\n",
      "3038\n",
      "3052\n",
      "3059\n",
      "3066\n",
      "3073\n",
      "3087\n",
      "3094\n",
      "3101\n",
      "3108\n",
      "3122\n",
      "3129\n",
      "3136\n",
      "3143\n",
      "3157\n",
      "3164\n",
      "3171\n",
      "3178\n",
      "3192\n",
      "3199\n"
     ]
    }
   ],
   "source": [
    "#solution to problem 5\n",
    "for i in range(2000,3201):\n",
    "    if i%7==0 and i%5!=0:\n",
    "        print(i)"
   ]
  },
  {
   "cell_type": "markdown",
   "metadata": {},
   "source": [
    "#solution to problem 6\n",
    "\n",
    "\n",
    "\n",
    "TypeError: 'int' object is not iterable\n",
    "\n",
    "\n",
    "\n",
    "\n",
    "0\n",
    "error\n",
    "1\n",
    "error\n",
    "2\n",
    "\n",
    "\n",
    "\n",
    "0\n",
    "1\n",
    "2\n",
    "3\n",
    "4\n"
   ]
  },
  {
   "cell_type": "code",
   "execution_count": 48,
   "metadata": {},
   "outputs": [
    {
     "name": "stdout",
     "output_type": "stream",
     "text": [
      "0\n",
      "1\n",
      "2\n",
      "4\n",
      "5\n"
     ]
    }
   ],
   "source": [
    "#solution to problem 7\n",
    "for i in range(0,7):\n",
    "    if i==3 or i==6:\n",
    "        continue\n",
    "    print(i)"
   ]
  },
  {
   "cell_type": "code",
   "execution_count": 53,
   "metadata": {},
   "outputs": [
    {
     "name": "stdout",
     "output_type": "stream",
     "text": [
      "enter any string\n",
      "f d g \n",
      "Number of digits:  0 and number of letters 3\n"
     ]
    }
   ],
   "source": [
    "#solution to problem 8\n",
    "print('enter any string')\n",
    "s=input()\n",
    "digits,letters=0,0\n",
    "for i in s:\n",
    "    if i.isdigit():\n",
    "        digits+=1\n",
    "    elif i.isalpha():\n",
    "        letters+=1\n",
    "print('Number of digits: ',digits, 'and number of letters', letters)\n",
    "    "
   ]
  },
  {
   "cell_type": "code",
   "execution_count": 59,
   "metadata": {},
   "outputs": [
    {
     "name": "stdout",
     "output_type": "stream",
     "text": [
      "Enter any number(it should be interger)\n",
      "34\n",
      "wrong guess.\n",
      "another try?(yes/no)\n",
      "yes\n",
      "Enter any number(it should be interger)\n",
      "45\n",
      "wrong guess.\n",
      "another try?(yes/no)\n",
      "YES\n",
      "Enter any number(it should be interger)\n",
      "23\n",
      "wrong guess.\n",
      "another try?(yes/no)\n",
      "gbrfd\n",
      "invald answer. guess again\n",
      "Enter any number(it should be interger)\n",
      "11\n",
      "correct guess\n"
     ]
    }
   ],
   "source": [
    "#solution to problem 9\n",
    "lucky_number=11\n",
    "while(True):\n",
    "    print('Enter any number(it should be interger)')\n",
    "    x=int(input())\n",
    "    if x == lucky_number:\n",
    "        print('correct guess')\n",
    "        break\n",
    "    else:\n",
    "        print('wrong guess.')\n",
    "        print('another try?(yes/no)')\n",
    "        a=input()\n",
    "        if a.lower()=='yes':\n",
    "            continue\n",
    "        elif a.lower()=='no':\n",
    "            break\n",
    "        else:\n",
    "            print('invald answer. guess again')"
   ]
  },
  {
   "cell_type": "code",
   "execution_count": 63,
   "metadata": {},
   "outputs": [
    {
     "name": "stdout",
     "output_type": "stream",
     "text": [
      "Type in the number  1\n",
      "34\n",
      "try again!\n",
      "Type in the number  2\n",
      "34\n",
      "try again!\n",
      "Type in the number  3\n",
      "34\n",
      "try again!\n",
      "Type in the number  4\n",
      "34\n",
      "try again!\n",
      "Type in the number  5\n",
      "34\n",
      "game over\n"
     ]
    }
   ],
   "source": [
    "#solution to problem 10\n",
    "lucky_number=11\n",
    "count=1\n",
    "while(count<=5):\n",
    "    print('Type in the number ', count)\n",
    "    x=int(input())\n",
    "    if count<=4:\n",
    "        if x==lucky_number:\n",
    "            print('good guess')\n",
    "        else: print('try again!')\n",
    "        count=count+1\n",
    "    else:     \n",
    "        if x==lucky_number:\n",
    "            print('good guess')\n",
    "        else: print('game over')\n",
    "        count=count+1"
   ]
  },
  {
   "cell_type": "code",
   "execution_count": 65,
   "metadata": {},
   "outputs": [
    {
     "name": "stdout",
     "output_type": "stream",
     "text": [
      "Type in the number  1\n",
      "34\n",
      "try again!\n",
      "Type in the number  2\n",
      "12\n",
      "try again!\n",
      "Type in the number  3\n",
      "5\n",
      "try again!\n",
      "Type in the number  4\n",
      "34\n",
      "try again!\n",
      "Type in the number  5\n",
      "65\n",
      "Sorry but that was not very successful\n"
     ]
    }
   ],
   "source": [
    "#solution to problem 11\n",
    "lucky_number=11\n",
    "count=1\n",
    "while(count<=5):\n",
    "    print('Type in the number ', count)\n",
    "    x=int(input())\n",
    "    if count<=4:\n",
    "        if x==lucky_number:\n",
    "            print('good guess')\n",
    "            break\n",
    "        else: print('try again!')\n",
    "        count=count+1\n",
    "    else:     \n",
    "        if x==lucky_number:\n",
    "            print('good guess')\n",
    "        else: print('Sorry but that was not very successful')\n",
    "        count=count+1\n"
   ]
  },
  {
   "cell_type": "markdown",
   "metadata": {},
   "source": [
    "Task 3\n"
   ]
  },
  {
   "cell_type": "code",
   "execution_count": 67,
   "metadata": {},
   "outputs": [],
   "source": [
    "#solution to problem 1\n",
    "listt=[1,2,3,4,'asd','ewwr',3+2j,4+5j,3.3,4.5]"
   ]
  },
  {
   "cell_type": "code",
   "execution_count": 91,
   "metadata": {},
   "outputs": [
    {
     "name": "stdout",
     "output_type": "stream",
     "text": [
      "[7, 8, 9]\n",
      "[6, 8]\n",
      "['fdf', 9, 8, 7, 6, 5]\n",
      "['fdf', 8, 6]\n",
      "['fdf', 9, 8]\n",
      "[7, 6, 5]\n"
     ]
    }
   ],
   "source": [
    "#solution to problem 2\n",
    "l5=[5,6,7,8,9,'fdf']\n",
    "print(l5[2:5])\n",
    "print(l5[1:5:2])\n",
    "print(l5[::-1])\n",
    "print(l5[::-2])\n",
    "print(l5[:2:-1])\n",
    "print(l5[2::-1])"
   ]
  },
  {
   "cell_type": "code",
   "execution_count": 97,
   "metadata": {},
   "outputs": [
    {
     "name": "stdout",
     "output_type": "stream",
     "text": [
      "sum:  126\n",
      "product:  5161200\n"
     ]
    }
   ],
   "source": [
    "#solution to problem 3\n",
    "ll=[23,4,5,3,55,34,2]\n",
    "print('sum: ',sum(ll))\n",
    "import numpy as np\n",
    "print('product: ',np.prod(ll))"
   ]
  },
  {
   "cell_type": "code",
   "execution_count": 99,
   "metadata": {},
   "outputs": [
    {
     "name": "stdout",
     "output_type": "stream",
     "text": [
      "largest: 55\n",
      "smallest: 2\n"
     ]
    }
   ],
   "source": [
    "#solution to problem 4\n",
    "print('largest:',max(ll))\n",
    "print('smallest:', min(ll))"
   ]
  },
  {
   "cell_type": "code",
   "execution_count": 108,
   "metadata": {},
   "outputs": [
    {
     "data": {
      "text/plain": [
       "[34, 242, 4, 54, 878, 56, 532, 46, 34]"
      ]
     },
     "execution_count": 108,
     "metadata": {},
     "output_type": "execute_result"
    }
   ],
   "source": [
    "#solution to problem 5\n",
    "ln=[34,235,5,242,67,4,54,23,7,87,23,45,878,45,23,56,879,532,46,34,7]\n",
    "ln=[i for i in ln if i%2==0]\n",
    "ln"
   ]
  },
  {
   "cell_type": "code",
   "execution_count": 116,
   "metadata": {},
   "outputs": [
    {
     "data": {
      "text/plain": [
       "[1, 4, 9, 16, 25, 676, 729, 784, 841, 900]"
      ]
     },
     "execution_count": 116,
     "metadata": {},
     "output_type": "execute_result"
    }
   ],
   "source": [
    "#solution to problem 6\n",
    "ls=list(range(1,31))\n",
    "lt=ls[:5]+ls[25:]\n",
    "lt=[i*i for i in lt]\n",
    "lt"
   ]
  },
  {
   "cell_type": "code",
   "execution_count": 155,
   "metadata": {},
   "outputs": [
    {
     "data": {
      "text/plain": [
       "[1, 3, 5, 7, 9, 2, 4, 6, 8]"
      ]
     },
     "execution_count": 155,
     "metadata": {},
     "output_type": "execute_result"
    }
   ],
   "source": [
    "#solution to problem 7\n",
    "mm=[[1,3,5,7,9,10],[2,4,6,8]]\n",
    "del(mm[0][len(mm[0])-1])\n",
    "nn=[]\n",
    "#del(mm[1])\n",
    "for i in mm:\n",
    "    for j in i:\n",
    "        nn.append(j)\n",
    "nn\n",
    "\n",
    "\n",
    "    \n",
    "        "
   ]
  },
  {
   "cell_type": "code",
   "execution_count": 169,
   "metadata": {},
   "outputs": [
    {
     "data": {
      "text/plain": [
       "{1: 10, 2: 20, 3: 30, 4: 40}"
      ]
     },
     "execution_count": 169,
     "metadata": {},
     "output_type": "execute_result"
    }
   ],
   "source": [
    "#solution to problem 8\n",
    "a={1:10,2:20}\n",
    "b={3:30,4:40}\n",
    "cc={}\n",
    "cc.update(a)\n",
    "cc.update(b)\n",
    "cc"
   ]
  },
  {
   "cell_type": "code",
   "execution_count": 3,
   "metadata": {},
   "outputs": [
    {
     "name": "stdout",
     "output_type": "stream",
     "text": [
      "enter any integer\n",
      "4\n"
     ]
    },
    {
     "data": {
      "text/plain": [
       "{0: 0, 1: 1, 2: 4, 3: 9, 4: 16}"
      ]
     },
     "execution_count": 3,
     "metadata": {},
     "output_type": "execute_result"
    }
   ],
   "source": [
    "#solution to problem 9\n",
    "dd={}\n",
    "print('enter any integer')\n",
    "q=int(input())\n",
    "for i in range(q+1):\n",
    "    dd[i]=i*i\n",
    "dd"
   ]
  },
  {
   "cell_type": "code",
   "execution_count": 10,
   "metadata": {},
   "outputs": [
    {
     "name": "stdout",
     "output_type": "stream",
     "text": [
      "enter commasepated numbers\n",
      "23,436,524,576,8,6435,42,313,5364,768,645,44\n",
      "['23', '436', '524', '576', '8', '6435', '42', '313', '5364', '768', '645', '44']\n",
      "('23', '436', '524', '576', '8', '6435', '42', '313', '5364', '768', '645', '44')\n"
     ]
    }
   ],
   "source": [
    "#solution to problem 10\n",
    "print('enter commasepated numbers')\n",
    "xx=input()\n",
    "xx=xx.split(',')\n",
    "yy=tuple(xx)\n",
    "print(xx)\n",
    "print(yy)"
   ]
  }
 ],
 "metadata": {
  "kernelspec": {
   "display_name": "Python 3",
   "language": "python",
   "name": "python3"
  },
  "language_info": {
   "codemirror_mode": {
    "name": "ipython",
    "version": 3
   },
   "file_extension": ".py",
   "mimetype": "text/x-python",
   "name": "python",
   "nbconvert_exporter": "python",
   "pygments_lexer": "ipython3",
   "version": "3.7.6"
  }
 },
 "nbformat": 4,
 "nbformat_minor": 4
}
